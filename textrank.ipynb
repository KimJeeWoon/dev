{
 "cells": [
  {
   "cell_type": "code",
   "execution_count": 1,
   "metadata": {},
   "outputs": [],
   "source": [
    "import pandas as pd\n",
    "import matplotlib.pyplot as plt\n",
    "from nltk.tokenize import sent_tokenize, word_tokenize\n",
    "from nltk.corpus import stopwords             #불용어\n",
    "from urllib.request import urlretrieve\n",
    "import zipfile\n",
    "from sklearn.metrics.pairwise import cosine_similarity\n",
    "import networkx as nx"
   ]
  },
  {
   "cell_type": "code",
   "execution_count": 2,
   "metadata": {},
   "outputs": [],
   "source": [
    "import numpy as np\n",
    "import gensim\n",
    "from urllib.request import urlretrieve, urlopen\n",
    "import gzip\n",
    "import zipfile\n",
    "from gensim.models.word2vec import Word2Vec\n",
    "import pandas as pd"
   ]
  },
  {
   "cell_type": "code",
   "execution_count": 19,
   "metadata": {},
   "outputs": [],
   "source": [
    "import re"
   ]
  },
  {
   "cell_type": "code",
   "execution_count": 20,
   "metadata": {},
   "outputs": [
    {
     "data": {
      "text/html": [
       "<div>\n",
       "<style scoped>\n",
       "    .dataframe tbody tr th:only-of-type {\n",
       "        vertical-align: middle;\n",
       "    }\n",
       "\n",
       "    .dataframe tbody tr th {\n",
       "        vertical-align: top;\n",
       "    }\n",
       "\n",
       "    .dataframe thead th {\n",
       "        text-align: right;\n",
       "    }\n",
       "</style>\n",
       "<table border=\"1\" class=\"dataframe\">\n",
       "  <thead>\n",
       "    <tr style=\"text-align: right;\">\n",
       "      <th></th>\n",
       "      <th>article_id</th>\n",
       "      <th>article_text</th>\n",
       "      <th>Unnamed: 2</th>\n",
       "      <th>Unnamed: 3</th>\n",
       "      <th>Unnamed: 4</th>\n",
       "    </tr>\n",
       "  </thead>\n",
       "  <tbody>\n",
       "    <tr>\n",
       "      <th>0</th>\n",
       "      <td>1</td>\n",
       "      <td>우리는 많은 시간 인터넷을 이용하고 있지만, 이는 인터넷 회선을 통해 인터넷 서비스...</td>\n",
       "      <td>NaN</td>\n",
       "      <td>NaN</td>\n",
       "      <td>NaN</td>\n",
       "    </tr>\n",
       "    <tr>\n",
       "      <th>1</th>\n",
       "      <td>2</td>\n",
       "      <td>우리가 논의를 좀 더 전개하기 전에 먼저 이론적인 것 잠깐만 짚고 넘어가겠습니다. ...</td>\n",
       "      <td>NaN</td>\n",
       "      <td>NaN</td>\n",
       "      <td>NaN</td>\n",
       "    </tr>\n",
       "    <tr>\n",
       "      <th>2</th>\n",
       "      <td>3</td>\n",
       "      <td>GAN은 콘텐츠 생산 산업에 많은 변화를 가져올 것으로 보인다. 그러나 부정적인 측...</td>\n",
       "      <td>NaN</td>\n",
       "      <td>NaN</td>\n",
       "      <td>NaN</td>\n",
       "    </tr>\n",
       "    <tr>\n",
       "      <th>3</th>\n",
       "      <td>4</td>\n",
       "      <td>서양미술 혁신의 첫번째로 르네상스 미술 이야기부터 하겠습니다.\\n한마디로 인간성의 ...</td>\n",
       "      <td>NaN</td>\n",
       "      <td>NaN</td>\n",
       "      <td>NaN</td>\n",
       "    </tr>\n",
       "    <tr>\n",
       "      <th>4</th>\n",
       "      <td>5</td>\n",
       "      <td>힘은 크기와 방향을 갖는 벡터양으로서 힘의 크기를 나타내는 SI 단위는 뉴턴(N)이...</td>\n",
       "      <td>NaN</td>\n",
       "      <td>NaN</td>\n",
       "      <td>NaN</td>\n",
       "    </tr>\n",
       "  </tbody>\n",
       "</table>\n",
       "</div>"
      ],
      "text/plain": [
       "   article_id                                       article_text  Unnamed: 2  \\\n",
       "0           1  우리는 많은 시간 인터넷을 이용하고 있지만, 이는 인터넷 회선을 통해 인터넷 서비스...         NaN   \n",
       "1           2  우리가 논의를 좀 더 전개하기 전에 먼저 이론적인 것 잠깐만 짚고 넘어가겠습니다. ...         NaN   \n",
       "2           3  GAN은 콘텐츠 생산 산업에 많은 변화를 가져올 것으로 보인다. 그러나 부정적인 측...         NaN   \n",
       "3           4  서양미술 혁신의 첫번째로 르네상스 미술 이야기부터 하겠습니다.\\n한마디로 인간성의 ...         NaN   \n",
       "4           5  힘은 크기와 방향을 갖는 벡터양으로서 힘의 크기를 나타내는 SI 단위는 뉴턴(N)이...         NaN   \n",
       "\n",
       "   Unnamed: 3  Unnamed: 4  \n",
       "0         NaN         NaN  \n",
       "1         NaN         NaN  \n",
       "2         NaN         NaN  \n",
       "3         NaN         NaN  \n",
       "4         NaN         NaN  "
      ]
     },
     "execution_count": 20,
     "metadata": {},
     "output_type": "execute_result"
    }
   ],
   "source": [
    "data=pd.read_csv(\"D:/test.csv\", engine='python')\n",
    "data.head()"
   ]
  },
  {
   "cell_type": "code",
   "execution_count": 21,
   "metadata": {},
   "outputs": [],
   "source": [
    "data=data[['article_text']]\n",
    "\n",
    "stop_words=['의','가','이','은','들','는','좀','잘','걍','과','도','를','으로','자','에','와','한','하다']\n",
    "\n",
    "def preprocess_sentence(sentence):\n",
    "    sentence=[re.sub(r'[^가-힣\\s]','',word) for word in sentence]\n",
    "    return [word for word in sentence if word not in stop_words and word]\n",
    "\n",
    "def preprocess_sentences(sentences):\n",
    "    return [preprocess_sentence(sentence) for sentence in sentences]\n",
    "#a-zA-Z, 즉 영어는 포함 안되게 했음"
   ]
  },
  {
   "cell_type": "code",
   "execution_count": 22,
   "metadata": {},
   "outputs": [
    {
     "data": {
      "text/html": [
       "<div>\n",
       "<style scoped>\n",
       "    .dataframe tbody tr th:only-of-type {\n",
       "        vertical-align: middle;\n",
       "    }\n",
       "\n",
       "    .dataframe tbody tr th {\n",
       "        vertical-align: top;\n",
       "    }\n",
       "\n",
       "    .dataframe thead th {\n",
       "        text-align: right;\n",
       "    }\n",
       "</style>\n",
       "<table border=\"1\" class=\"dataframe\">\n",
       "  <thead>\n",
       "    <tr style=\"text-align: right;\">\n",
       "      <th></th>\n",
       "      <th>article_text</th>\n",
       "    </tr>\n",
       "  </thead>\n",
       "  <tbody>\n",
       "    <tr>\n",
       "      <th>0</th>\n",
       "      <td>우리는 많은 시간 인터넷을 이용하고 있지만, 이는 인터넷 회선을 통해 인터넷 서비스...</td>\n",
       "    </tr>\n",
       "    <tr>\n",
       "      <th>1</th>\n",
       "      <td>우리가 논의를 좀 더 전개하기 전에 먼저 이론적인 것 잠깐만 짚고 넘어가겠습니다. ...</td>\n",
       "    </tr>\n",
       "    <tr>\n",
       "      <th>2</th>\n",
       "      <td>GAN은 콘텐츠 생산 산업에 많은 변화를 가져올 것으로 보인다. 그러나 부정적인 측...</td>\n",
       "    </tr>\n",
       "    <tr>\n",
       "      <th>3</th>\n",
       "      <td>서양미술 혁신의 첫번째로 르네상스 미술 이야기부터 하겠습니다.\\n한마디로 인간성의 ...</td>\n",
       "    </tr>\n",
       "    <tr>\n",
       "      <th>4</th>\n",
       "      <td>힘은 크기와 방향을 갖는 벡터양으로서 힘의 크기를 나타내는 SI 단위는 뉴턴(N)이...</td>\n",
       "    </tr>\n",
       "  </tbody>\n",
       "</table>\n",
       "</div>"
      ],
      "text/plain": [
       "                                        article_text\n",
       "0  우리는 많은 시간 인터넷을 이용하고 있지만, 이는 인터넷 회선을 통해 인터넷 서비스...\n",
       "1  우리가 논의를 좀 더 전개하기 전에 먼저 이론적인 것 잠깐만 짚고 넘어가겠습니다. ...\n",
       "2  GAN은 콘텐츠 생산 산업에 많은 변화를 가져올 것으로 보인다. 그러나 부정적인 측...\n",
       "3  서양미술 혁신의 첫번째로 르네상스 미술 이야기부터 하겠습니다.\\n한마디로 인간성의 ...\n",
       "4  힘은 크기와 방향을 갖는 벡터양으로서 힘의 크기를 나타내는 SI 단위는 뉴턴(N)이..."
      ]
     },
     "execution_count": 22,
     "metadata": {},
     "output_type": "execute_result"
    }
   ],
   "source": [
    "data"
   ]
  },
  {
   "cell_type": "code",
   "execution_count": 30,
   "metadata": {},
   "outputs": [
    {
     "name": "stderr",
     "output_type": "stream",
     "text": [
      "D:\\anaconda\\lib\\site-packages\\ipykernel_launcher.py:2: SettingWithCopyWarning: \n",
      "A value is trying to be set on a copy of a slice from a DataFrame.\n",
      "Try using .loc[row_indexer,col_indexer] = value instead\n",
      "\n",
      "See the caveats in the documentation: https://pandas.pydata.org/pandas-docs/stable/user_guide/indexing.html#returning-a-view-versus-a-copy\n",
      "  \n"
     ]
    },
    {
     "data": {
      "text/plain": [
       "['우리는 많은 시간 인터넷을 이용하고 있지만, 이는 인터넷 회선을 통해 인터넷 서비스를 이용하는 것일 뿐, 내 컴퓨터 안의 파일이 인터넷에 연결되어 있는 것은 아닙니다.',\n",
       " 'HTML로 웹사이트를 만들고 그 내용을 다른 사람들이 볼 수 있도록 하려면 HTML로 만든 웹 문서를 모두 서버 컴퓨터로 옮겨야 합니다.',\n",
       " '서버(server)컴퓨터란 전용선을 통해 인터넷에 직접 연결되어 있는 컴퓨터를 가리키는데, 24시간 인터넷에 연결되어있고 서버 컴퓨터 접속 주소만 알면 누구나 서버 컴퓨터의 내용을 볼 수 있습니다.',\n",
       " '인터넷 회선을 통해 서버 컴퓨터에 접속하는 사용자 컴퓨터를 클라이언트(client)컴퓨터라고 합니다.',\n",
       " '서버 정보를 가져와 보여주는 것은 사용자 컴퓨터 안의 웹 브라우저이기 때문에 좁은 의미로 웹브라우저를 클라이언트라고도 합니다.',\n",
       " '웹 디자이너나 웹 개발자들은 자신이 제작한 최신 웹사이트를 항상 서버 컴퓨터에 업로드해 놓기 때문에 사용자들은 자신의 위치에 상관없이 어디에서나 인터넷에 접속해서 해당 웹사이트의 내용을 볼 수 있습니다.',\n",
       " '개인은 웹 서버를 마련하기 어렵기 때문에 서버의 일부 공간을 매달 혹은 몇 년마다 일정 금액을 내고 사용하는 서비스를 이용합니다.',\n",
       " \"이것을 '서버 호스팅 서비스' 혹은 '웹 호스팅 서비스'라고 하는데, 개인 웹사이트를 운영하는 사람들은 대부분 이런 호스팅 서비스를 이용합니다.\",\n",
       " '호스팅 서비스는 어떤 서버를 이용하느냐에 따라 윈도우 서버 호스팅과 리눅스 서버 호스팅으로 나뉘는데, 윈도우 서버에서는 ASP나 ASAP.NET 프로그래밍 언어를 사용하고, 리눅스 서버에서는 PHP 프로그래밍 언어를 사용하며 좀 더 대중적이고 저렴합니다.']"
      ]
     },
     "execution_count": 30,
     "metadata": {},
     "output_type": "execute_result"
    }
   ],
   "source": [
    "data=data[['article_text']]\n",
    "data['sentences']=data['article_text'].apply(sent_tokenize)\n",
    "data['sentences'][0]"
   ]
  },
  {
   "cell_type": "code",
   "execution_count": 24,
   "metadata": {},
   "outputs": [],
   "source": [
    "kovec=Word2Vec.load(\"D:\\ko.bin\")\n",
    "#kovec=gensim.models.KeyedVectors.load_word2vec_format('D:\\ko.bin',binary=True)"
   ]
  },
  {
   "cell_type": "code",
   "execution_count": 25,
   "metadata": {},
   "outputs": [],
   "source": [
    "model=Word2Vec(data,sg=1,size=100,window=3,min_count=3,workers=4)"
   ]
  },
  {
   "cell_type": "code",
   "execution_count": 26,
   "metadata": {},
   "outputs": [
    {
     "data": {
      "text/plain": [
       "[('젊은이', 0.6494427919387817),\n",
       " ('여인', 0.6287257671356201),\n",
       " ('백성', 0.6063710451126099),\n",
       " ('포졸', 0.6043275594711304),\n",
       " ('죄인', 0.5960500836372375),\n",
       " ('선비', 0.5868039131164551),\n",
       " ('부녀자', 0.5654411315917969),\n",
       " ('죄수', 0.5639811754226685),\n",
       " ('구경꾼', 0.5620019435882568),\n",
       " ('손님', 0.5589558482170105)]"
      ]
     },
     "execution_count": 26,
     "metadata": {},
     "output_type": "execute_result"
    }
   ],
   "source": [
    "kovec.wv.most_similar(\"사람\")"
   ]
  },
  {
   "cell_type": "code",
   "execution_count": 27,
   "metadata": {},
   "outputs": [
    {
     "data": {
      "text/plain": [
       "array([ 0.7412252 , -1.1187236 ,  2.0681474 ,  1.05749   , -1.3211275 ,\n",
       "       -2.414994  , -1.133681  ,  1.5452526 , -0.4543698 ,  0.02380616,\n",
       "        0.12370981, -0.8839078 , -2.9051683 , -0.34940982,  1.3418512 ,\n",
       "        2.8225965 ,  1.0794274 ,  0.4287113 , -1.9613483 ,  0.4262147 ,\n",
       "       -0.40650806, -0.34994036, -0.8416261 ,  0.52574843, -0.29543158,\n",
       "       -0.5593075 ,  0.84687376,  0.0889315 , -2.5240638 ,  0.46828857,\n",
       "        2.8982353 , -1.6508341 , -0.37446976, -2.2825975 ,  0.7083552 ,\n",
       "       -0.59711653,  0.2839199 , -1.0247895 ,  2.3036754 ,  0.45918384,\n",
       "       -0.83396995,  0.85293204,  0.972802  , -0.5457918 , -0.93798906,\n",
       "       -0.8009529 ,  2.160266  ,  0.10052549, -0.16650781, -0.07592812,\n",
       "       -0.45869842,  1.3352628 ,  2.3284414 ,  0.7132327 , -2.4690466 ,\n",
       "        0.05213251,  0.38745207, -0.2773064 , -0.67375   , -0.59059584,\n",
       "        1.0310122 ,  1.9923794 , -0.94680166, -1.3167765 , -1.4717319 ,\n",
       "        0.97447944,  0.8103551 ,  0.8915873 ,  0.7474684 , -0.00637981,\n",
       "        0.7444418 ,  0.7939502 , -1.0944605 ,  1.392656  ,  0.37654135,\n",
       "       -1.2034026 ,  1.0072207 , -0.40544778,  0.44212767, -3.0634484 ,\n",
       "        1.1875361 , -0.12091239,  1.4954131 ,  0.36426282, -1.0021433 ,\n",
       "        0.11045299, -0.8199569 ,  0.73303777,  0.26993483,  0.5307779 ,\n",
       "        3.26409   , -1.0755528 , -1.1228558 ,  1.6779242 ,  1.790663  ,\n",
       "       -0.2767947 ,  1.4767654 ,  0.08618896,  0.5165028 ,  2.7088833 ,\n",
       "       -0.46314278,  0.99281746,  0.39835286,  0.88094866, -0.6806667 ,\n",
       "        1.6146507 ,  0.40473613,  0.4831634 ,  0.8650192 , -2.2554002 ,\n",
       "        1.4073339 ,  0.29678002,  0.312536  , -0.24908657, -0.63724786,\n",
       "        0.01833764,  0.28282273,  0.5918058 , -0.4271871 , -0.36062592,\n",
       "        0.28868324, -1.5452292 , -2.195867  , -3.35319   ,  0.90652514,\n",
       "        0.69410455, -2.4260206 ,  0.62638485,  1.4539987 ,  0.66689837,\n",
       "       -0.43008897, -1.0371583 ,  1.7439222 ,  2.1849706 ,  2.809909  ,\n",
       "       -0.3376442 ,  0.6059654 , -0.11268281,  0.5642306 , -2.0597198 ,\n",
       "        0.2558234 , -0.8461995 ,  1.9621457 ,  2.4020708 ,  0.10118579,\n",
       "        0.7569208 , -0.52231586,  0.69310755, -0.12435903,  1.7258118 ,\n",
       "       -0.47222325, -0.11036941,  0.09247034, -0.24319325,  0.26812062,\n",
       "       -1.8018712 ,  0.31583163,  0.14499973, -0.6330405 ,  1.0520003 ,\n",
       "       -1.4853543 ,  0.34385768,  0.5239166 , -2.2002435 , -2.701687  ,\n",
       "       -1.4307605 ,  0.77635235,  2.863714  , -0.73031855,  1.1225786 ,\n",
       "       -1.8527915 , -2.1887116 , -1.2744621 , -0.53644854,  1.459293  ,\n",
       "       -0.47653604,  0.5469871 , -0.22993626,  1.1055657 ,  0.47264385,\n",
       "       -1.3790879 ,  2.063961  ,  2.1002257 , -0.16041307, -1.7497696 ,\n",
       "        1.8129411 , -0.30766737, -0.9470096 , -1.6739731 ,  0.02093687,\n",
       "       -0.26385018,  0.18818851, -0.520275  ,  0.08425661,  1.003671  ,\n",
       "        0.97272223,  0.85132086,  1.3672657 , -0.7964044 , -2.9975104 ],\n",
       "      dtype=float32)"
      ]
     },
     "execution_count": 27,
     "metadata": {},
     "output_type": "execute_result"
    }
   ],
   "source": [
    "kovec.wv['사람']"
   ]
  },
  {
   "cell_type": "code",
   "execution_count": 28,
   "metadata": {},
   "outputs": [],
   "source": [
    "stopwords=['의','가','이','은','들','는','좀','잘','걍','과','도','를','으로','자','에','와','한','하다']"
   ]
  },
  {
   "cell_type": "code",
   "execution_count": 29,
   "metadata": {},
   "outputs": [
    {
     "data": {
      "text/html": [
       "<div>\n",
       "<style scoped>\n",
       "    .dataframe tbody tr th:only-of-type {\n",
       "        vertical-align: middle;\n",
       "    }\n",
       "\n",
       "    .dataframe tbody tr th {\n",
       "        vertical-align: top;\n",
       "    }\n",
       "\n",
       "    .dataframe thead th {\n",
       "        text-align: right;\n",
       "    }\n",
       "</style>\n",
       "<table border=\"1\" class=\"dataframe\">\n",
       "  <thead>\n",
       "    <tr style=\"text-align: right;\">\n",
       "      <th></th>\n",
       "      <th>article_text</th>\n",
       "      <th>sentences</th>\n",
       "      <th>tokenized_data</th>\n",
       "    </tr>\n",
       "  </thead>\n",
       "  <tbody>\n",
       "    <tr>\n",
       "      <th>0</th>\n",
       "      <td>우리는 많은 시간 인터넷을 이용하고 있지만, 이는 인터넷 회선을 통해 인터넷 서비스...</td>\n",
       "      <td>[우리는 많은 시간 인터넷을 이용하고 있지만, 이는 인터넷 회선을 통해 인터넷 서비...</td>\n",
       "      <td>[[우리, 많다, 시간, 인터넷, 을, 이용, 하고, 있다, 이다, 인터넷, 회선,...</td>\n",
       "    </tr>\n",
       "    <tr>\n",
       "      <th>1</th>\n",
       "      <td>우리가 논의를 좀 더 전개하기 전에 먼저 이론적인 것 잠깐만 짚고 넘어가겠습니다. ...</td>\n",
       "      <td>[우리가 논의를 좀 더 전개하기 전에 먼저 이론적인 것 잠깐만 짚고 넘어가겠습니다....</td>\n",
       "      <td>[[우리, 논의, 더, 전개, 전, 먼저, 이론, 적, 인, 것, 잠깐, 만, 짚다...</td>\n",
       "    </tr>\n",
       "    <tr>\n",
       "      <th>2</th>\n",
       "      <td>GAN은 콘텐츠 생산 산업에 많은 변화를 가져올 것으로 보인다. 그러나 부정적인 측...</td>\n",
       "      <td>[GAN은 콘텐츠 생산 산업에 많은 변화를 가져올 것으로 보인다., 그러나 부정적인...</td>\n",
       "      <td>[[콘텐츠, 생산, 산업, 많다, 변화, 가져오다, 것, 보이다], [그러나, 부정...</td>\n",
       "    </tr>\n",
       "    <tr>\n",
       "      <th>3</th>\n",
       "      <td>서양미술 혁신의 첫번째로 르네상스 미술 이야기부터 하겠습니다.\\n한마디로 인간성의 ...</td>\n",
       "      <td>[서양미술 혁신의 첫번째로 르네상스 미술 이야기부터 하겠습니다., 한마디로 인간성의...</td>\n",
       "      <td>[[서양미술, 혁신, 첫, 번째, 로, 르네상스, 미술, 이야기, 부터], [한마디...</td>\n",
       "    </tr>\n",
       "    <tr>\n",
       "      <th>4</th>\n",
       "      <td>힘은 크기와 방향을 갖는 벡터양으로서 힘의 크기를 나타내는 SI 단위는 뉴턴(N)이...</td>\n",
       "      <td>[힘은 크기와 방향을 갖는 벡터양으로서 힘의 크기를 나타내는 SI 단위는 뉴턴(N)...</td>\n",
       "      <td>[[힘, 크기, 방향, 을, 갖다, 벡터, 양, 으로서, 힘, 크기, 나타내다, 단...</td>\n",
       "    </tr>\n",
       "  </tbody>\n",
       "</table>\n",
       "</div>"
      ],
      "text/plain": [
       "                                        article_text  \\\n",
       "0  우리는 많은 시간 인터넷을 이용하고 있지만, 이는 인터넷 회선을 통해 인터넷 서비스...   \n",
       "1  우리가 논의를 좀 더 전개하기 전에 먼저 이론적인 것 잠깐만 짚고 넘어가겠습니다. ...   \n",
       "2  GAN은 콘텐츠 생산 산업에 많은 변화를 가져올 것으로 보인다. 그러나 부정적인 측...   \n",
       "3  서양미술 혁신의 첫번째로 르네상스 미술 이야기부터 하겠습니다.\\n한마디로 인간성의 ...   \n",
       "4  힘은 크기와 방향을 갖는 벡터양으로서 힘의 크기를 나타내는 SI 단위는 뉴턴(N)이...   \n",
       "\n",
       "                                           sentences  \\\n",
       "0  [우리는 많은 시간 인터넷을 이용하고 있지만, 이는 인터넷 회선을 통해 인터넷 서비...   \n",
       "1  [우리가 논의를 좀 더 전개하기 전에 먼저 이론적인 것 잠깐만 짚고 넘어가겠습니다....   \n",
       "2  [GAN은 콘텐츠 생산 산업에 많은 변화를 가져올 것으로 보인다., 그러나 부정적인...   \n",
       "3  [서양미술 혁신의 첫번째로 르네상스 미술 이야기부터 하겠습니다., 한마디로 인간성의...   \n",
       "4  [힘은 크기와 방향을 갖는 벡터양으로서 힘의 크기를 나타내는 SI 단위는 뉴턴(N)...   \n",
       "\n",
       "                                      tokenized_data  \n",
       "0  [[우리, 많다, 시간, 인터넷, 을, 이용, 하고, 있다, 이다, 인터넷, 회선,...  \n",
       "1  [[우리, 논의, 더, 전개, 전, 먼저, 이론, 적, 인, 것, 잠깐, 만, 짚다...  \n",
       "2  [[콘텐츠, 생산, 산업, 많다, 변화, 가져오다, 것, 보이다], [그러나, 부정...  \n",
       "3  [[서양미술, 혁신, 첫, 번째, 로, 르네상스, 미술, 이야기, 부터], [한마디...  \n",
       "4  [[힘, 크기, 방향, 을, 갖다, 벡터, 양, 으로서, 힘, 크기, 나타내다, 단...  "
      ]
     },
     "execution_count": 29,
     "metadata": {},
     "output_type": "execute_result"
    }
   ],
   "source": [
    "## 형태소 단위로 Tokenize\n",
    "from konlpy.tag import Okt  \n",
    "okt=Okt()\n",
    "\n",
    "def tokenization(sentences):\n",
    "    temp=[]\n",
    "    for sentence in sentences:\n",
    "        temp_X=okt.morphs(sentence,stem=True)\n",
    "        temp_X=[word for word in temp_X]\n",
    "        temp.append(temp_X)\n",
    "    return temp\n",
    "\n",
    "\n",
    "data['tokenized_data']=data['sentences'].apply(tokenization)\n",
    "    \n",
    "data['tokenized_data']=data['tokenized_data'].apply(preprocess_sentences)\n",
    "    \n",
    "data"
   ]
  },
  {
   "cell_type": "code",
   "execution_count": null,
   "metadata": {},
   "outputs": [],
   "source": [
    "data['tokenized_data']"
   ]
  },
  {
   "cell_type": "code",
   "execution_count": null,
   "metadata": {},
   "outputs": [],
   "source": []
  },
  {
   "cell_type": "code",
   "execution_count": null,
   "metadata": {},
   "outputs": [],
   "source": [
    "embedding_dim=200\n",
    "zero_vector=np.zeros(embedding_dim)"
   ]
  },
  {
   "cell_type": "code",
   "execution_count": null,
   "metadata": {},
   "outputs": [],
   "source": [
    "def calculate_sentence_vector(sentence):\n",
    "    if len(sentence) != 0:\n",
    "        sum=0\n",
    "        for word in sentence:\n",
    "            try: \n",
    "                sum+=kovec.wv[word]\n",
    "            except Exception:\n",
    "                sum+=zero_vector\n",
    "        return sum/len(sentence)\n",
    "    else:\n",
    "        return zero_vector"
   ]
  },
  {
   "cell_type": "code",
   "execution_count": null,
   "metadata": {},
   "outputs": [],
   "source": []
  },
  {
   "cell_type": "code",
   "execution_count": null,
   "metadata": {},
   "outputs": [],
   "source": []
  },
  {
   "cell_type": "code",
   "execution_count": null,
   "metadata": {},
   "outputs": [],
   "source": [
    "def sentences_to_vectors(sentences):\n",
    "    return [calculate_sentence_vector(sentence) for sentence in sentences]"
   ]
  },
  {
   "cell_type": "code",
   "execution_count": null,
   "metadata": {},
   "outputs": [],
   "source": [
    "data['SentenceEmbedding']=data['tokenized_data'].apply(sentences_to_vectors)\n",
    "data[['SentenceEmbedding']]"
   ]
  },
  {
   "cell_type": "code",
   "execution_count": null,
   "metadata": {},
   "outputs": [],
   "source": [
    "def similarity_matrix(sentence_embedding):\n",
    "    sim_mat=np.zeros([len(sentence_embedding),len(sentence_embedding)])\n",
    "    for i in range(len(sentence_embedding)):\n",
    "        for j in range(len(sentence_embedding)):\n",
    "            sim_mat[i][j]=cosine_similarity(sentence_embedding[i].reshape(1,embedding_dim),\n",
    "                                           sentence_embedding[j].reshape(1,embedding_dim))[0,0]\n",
    "    return sim_mat"
   ]
  },
  {
   "cell_type": "code",
   "execution_count": null,
   "metadata": {},
   "outputs": [],
   "source": [
    "data['SimMatrix']=data['SentenceEmbedding'].apply(similarity_matrix)\n",
    "data['SimMatrix']"
   ]
  },
  {
   "cell_type": "code",
   "execution_count": null,
   "metadata": {},
   "outputs": [],
   "source": [
    "print('두번째 샘플의 문장 개수 : ',len(data['tokenized_data'][0]))\n",
    "print('두번째 샘플의 문장 벡터가 모인 문장 행렬의 크기(shape) : ',np.shape(data['SentenceEmbedding'][0]))\n",
    "print('두번쨰 샘플의 유사도 행렬의 크기(shape) : ',data['SimMatrix'][0].shape)"
   ]
  },
  {
   "cell_type": "code",
   "execution_count": null,
   "metadata": {},
   "outputs": [],
   "source": [
    "data"
   ]
  },
  {
   "cell_type": "code",
   "execution_count": null,
   "metadata": {},
   "outputs": [],
   "source": [
    "def draw_graphs(sim_matrix):\n",
    "    nx_graph=nx.from_numpy_array(sim_matrix)\n",
    "    plt.figure(figsize=(10,10))\n",
    "    pos=nx.spring_layout(nx_graph)\n",
    "    nx.draw(nx_graph,with_labels=True,font_weight='bold')\n",
    "    nx.draw_networkx_edge_labels(nx_graph,pos,font_color='red')\n",
    "    plt.show()"
   ]
  },
  {
   "cell_type": "code",
   "execution_count": null,
   "metadata": {},
   "outputs": [],
   "source": [
    "draw_graphs(data['SimMatrix'][0])"
   ]
  },
  {
   "cell_type": "code",
   "execution_count": null,
   "metadata": {},
   "outputs": [],
   "source": [
    "def calculate_score(sim_matrix):\n",
    "    nx_graph=nx.from_numpy_array(sim_matrix)\n",
    "    scores=nx.pagerank_numpy(nx_graph)\n",
    "    return scores"
   ]
  },
  {
   "cell_type": "code",
   "execution_count": null,
   "metadata": {},
   "outputs": [],
   "source": [
    "data['score']=data['SimMatrix'].apply(calculate_score)\n",
    "data[['SimMatrix','score']]"
   ]
  },
  {
   "cell_type": "code",
   "execution_count": null,
   "metadata": {},
   "outputs": [],
   "source": [
    "data['score'][0]"
   ]
  },
  {
   "cell_type": "code",
   "execution_count": null,
   "metadata": {},
   "outputs": [],
   "source": [
    "def ranked_sentences(sentences,scores,n=3):\n",
    "    top_scores=sorted(((scores[i],s)\n",
    "                      for i,s in enumerate(sentences)),\n",
    "                     reverse=True)\n",
    "    top_n_sentences=[sentence for score,sentence in top_scores[:n]]\n",
    "    return \" \".join(top_n_sentences)"
   ]
  },
  {
   "cell_type": "code",
   "execution_count": null,
   "metadata": {
    "scrolled": true
   },
   "outputs": [],
   "source": [
    "data"
   ]
  },
  {
   "cell_type": "code",
   "execution_count": null,
   "metadata": {},
   "outputs": [],
   "source": [
    "data['summary'] = data.apply(lambda x:\n",
    "                            ranked_sentences(x.sentences, x.score),axis=1)"
   ]
  },
  {
   "cell_type": "code",
   "execution_count": null,
   "metadata": {},
   "outputs": [],
   "source": [
    "for i in range(0,len(data)):\n",
    "    print(i+1,'번 문서')\n",
    "    print('원문 : ',data.loc[i].article_text)\n",
    "    print(' ')\n",
    "    print('요약 : ',data.loc[i].summary)\n",
    "    print('')"
   ]
  },
  {
   "cell_type": "code",
   "execution_count": null,
   "metadata": {},
   "outputs": [],
   "source": []
  },
  {
   "cell_type": "code",
   "execution_count": null,
   "metadata": {},
   "outputs": [],
   "source": []
  },
  {
   "cell_type": "code",
   "execution_count": null,
   "metadata": {},
   "outputs": [],
   "source": []
  }
 ],
 "metadata": {
  "kernelspec": {
   "display_name": "Python 3",
   "language": "python",
   "name": "python3"
  },
  "language_info": {
   "codemirror_mode": {
    "name": "ipython",
    "version": 3
   },
   "file_extension": ".py",
   "mimetype": "text/x-python",
   "name": "python",
   "nbconvert_exporter": "python",
   "pygments_lexer": "ipython3",
   "version": "3.7.9"
  }
 },
 "nbformat": 4,
 "nbformat_minor": 2
}
